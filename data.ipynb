{
 "cells": [
  {
   "cell_type": "code",
   "execution_count": 1,
   "metadata": {},
   "outputs": [],
   "source": [
    "import os\n",
    "import pandas as pd\n",
    "from PIL import Image\n",
    "import numpy as np"
   ]
  },
  {
   "cell_type": "code",
   "execution_count": 72,
   "metadata": {},
   "outputs": [
    {
     "data": {
      "text/html": [
       "<div>\n",
       "<style scoped>\n",
       "    .dataframe tbody tr th:only-of-type {\n",
       "        vertical-align: middle;\n",
       "    }\n",
       "\n",
       "    .dataframe tbody tr th {\n",
       "        vertical-align: top;\n",
       "    }\n",
       "\n",
       "    .dataframe thead th {\n",
       "        text-align: right;\n",
       "    }\n",
       "</style>\n",
       "<table border=\"1\" class=\"dataframe\">\n",
       "  <thead>\n",
       "    <tr style=\"text-align: right;\">\n",
       "      <th></th>\n",
       "      <th>img_name</th>\n",
       "      <th>id</th>\n",
       "    </tr>\n",
       "  </thead>\n",
       "  <tbody>\n",
       "    <tr>\n",
       "      <th>897</th>\n",
       "      <td>wid_rot90_1707226472_binomen-ru-p-kalankhoe-ts...</td>\n",
       "      <td>897</td>\n",
       "    </tr>\n",
       "    <tr>\n",
       "      <th>898</th>\n",
       "      <td>wid_rot90_203059-1395608289-25008e044edba36977...</td>\n",
       "      <td>898</td>\n",
       "    </tr>\n",
       "    <tr>\n",
       "      <th>899</th>\n",
       "      <td>wid_rot90_502.jpg</td>\n",
       "      <td>899</td>\n",
       "    </tr>\n",
       "    <tr>\n",
       "      <th>900</th>\n",
       "      <td>wid_rot90_kalanhoe-sorta-i-vidi-3.jpg</td>\n",
       "      <td>900</td>\n",
       "    </tr>\n",
       "    <tr>\n",
       "      <th>901</th>\n",
       "      <td>wid_rot90_Kalankhoe1.jpg</td>\n",
       "      <td>901</td>\n",
       "    </tr>\n",
       "  </tbody>\n",
       "</table>\n",
       "</div>"
      ],
      "text/plain": [
       "                                              img_name   id\n",
       "897  wid_rot90_1707226472_binomen-ru-p-kalankhoe-ts...  897\n",
       "898  wid_rot90_203059-1395608289-25008e044edba36977...  898\n",
       "899                                  wid_rot90_502.jpg  899\n",
       "900              wid_rot90_kalanhoe-sorta-i-vidi-3.jpg  900\n",
       "901                           wid_rot90_Kalankhoe1.jpg  901"
      ]
     },
     "execution_count": 72,
     "metadata": {},
     "output_type": "execute_result"
    }
   ],
   "source": [
    "plant_data = pd.read_csv('data/Plants_data.csv')\n",
    "\n",
    "plants_list = ['Dracaena', 'Hovea', 'Orchid', 'Sansevieria', 'Spathiphyllum',\n",
    "               'Zamiokulkas', 'Aglaonema', 'Kalanchoe']\n",
    "n = 0\n",
    "\n",
    "for i in plants_list:\n",
    "    path = 'data/' + i + '/new'\n",
    "    for j in os.listdir(path):\n",
    "        interm_df = pd.DataFrame({'img_name': [j], 'id': [n]})\n",
    "        plant_data = pd.concat([plant_data, interm_df], ignore_index = True)\n",
    "        n += 1\n",
    "plant_data.tail()"
   ]
  },
  {
   "cell_type": "code",
   "execution_count": 75,
   "metadata": {},
   "outputs": [],
   "source": [
    "plant_data.to_csv('data/new_Plants_data.csv')"
   ]
  },
  {
   "cell_type": "markdown",
   "metadata": {},
   "source": [
    "### Обработка изображений"
   ]
  },
  {
   "cell_type": "code",
   "execution_count": 32,
   "metadata": {},
   "outputs": [],
   "source": [
    "path = 'data/Spathiphyllum'\n",
    "for i in os.listdir(path):\n",
    "    if str(i)[-3:] == 'jpg': \n",
    "        \n",
    "        with Image.open(path + '/' + i) as img:\n",
    "            img.load()\n",
    "            \n",
    "        img.save(path + '/new/' + i)\n",
    "        \n",
    "        gray_img = img.convert(\"L\")\n",
    "        gray_img.save(path + '/new/gray_' + i)\n",
    "        \n",
    "        conv_img = img.transpose(Image.FLIP_TOP_BOTTOM)\n",
    "        conv_img.save(path + '/new/conv_' + i)\n",
    "        \n",
    "        gray_conv_img = conv_img.convert(\"L\")\n",
    "        gray_conv_img.save(path + '/new/gray_conv_' + i)\n",
    "        \n",
    "        img_rot90 = img.copy()\n",
    "        crop = img.width * 0.7\n",
    "        sub_image = img.crop(box=(100,100,crop,crop)).rotate(90)\n",
    "        img_rot90.paste(sub_image, box=(100,100))\n",
    "        img_rot90.save(path + '/new/rot90_' + i)\n",
    "        \n",
    "        gray_rot90_img = img_rot90.convert(\"L\")\n",
    "        gray_rot90_img.save(path + '/new/gray_rot90_' + i)\n",
    "        \n",
    "        img_rot180 = img.copy()\n",
    "        crop = img.width * 0.8\n",
    "        sub_image = img.crop(box=(50,50,crop,crop)).rotate(180)\n",
    "        img_rot180.paste(sub_image, box=(50,50))\n",
    "        img_rot180.save(path + '/new/rot180_' + i)\n",
    "        \n",
    "        gray_rot180_img = img_rot180.convert(\"L\")\n",
    "        gray_rot180_img.save(path + '/new/gray_rot180_' + i)\n",
    "        \n",
    "        img_width = img.resize((round(img.width*1.5), img.height))\n",
    "        img_width.save(path + '/new/width_' + i)\n",
    "        \n",
    "        width_gray_img = img_width.convert(\"L\")\n",
    "        width_gray_img.save(path + '/new/width_gray_' + i)\n",
    "        \n",
    "        img_wid_rot90 = img_width.copy()\n",
    "        crop = img_width.width * 0.7\n",
    "        sub_image = img_width.crop(box=(100,100,crop,crop)).rotate(90)\n",
    "        img_wid_rot90.paste(sub_image, box=(100,100))\n",
    "        img_wid_rot90.save(path + '/new/wid_rot90_' + i)\n",
    "        \n",
    "        img_height = img.resize((img.width, round(img.height*1.2)))\n",
    "        img_height.save(path + '/new/height_' + i)\n",
    "        \n",
    "        height_gray_img = img_height.convert(\"L\")\n",
    "        height_gray_img.save(path + '/new/height_gray_' + i)"
   ]
  },
  {
   "cell_type": "code",
   "execution_count": null,
   "metadata": {},
   "outputs": [],
   "source": [
    "plants_list = ['Dracaena', 'Hovea', 'Orchid', 'Sansevieria', 'Spathiphyllum',\n",
    "               'Zamiokulkas']"
   ]
  },
  {
   "cell_type": "code",
   "execution_count": 52,
   "metadata": {},
   "outputs": [],
   "source": [
    "filename = \"data/1633466875_34-p-orkhideya-tsvetov-v-gorshke-doma-foto-34.jpg\"\n",
    "with Image.open(filename) as img:\n",
    "    img.load()\n",
    "\n",
    "gray_img = img.convert(\"L\")\n",
    "#gray_img.show()\n",
    "\n",
    "converted_img = img.transpose(Image.FLIP_TOP_BOTTOM)\n",
    "#converted_img.show()\n",
    "\n",
    "image_arr = np.array(img) \n",
    "x1 = round(image_arr.shape[0]*0.2)\n",
    "x2 = round(image_arr.shape[0]*0.8)\n",
    "y1 = round(image_arr.shape[1]*0.2)\n",
    "y2 = round(image_arr.shape[1]*0.8)\n",
    "image_arr = image_arr[x1:x2, y1:y2] \n",
    "image = Image.fromarray(image_arr) \n",
    "  \n",
    "# Display image \n",
    "image.show()"
   ]
  }
 ],
 "metadata": {
  "kernelspec": {
   "display_name": "Python 3",
   "language": "python",
   "name": "python3"
  },
  "language_info": {
   "codemirror_mode": {
    "name": "ipython",
    "version": 3
   },
   "file_extension": ".py",
   "mimetype": "text/x-python",
   "name": "python",
   "nbconvert_exporter": "python",
   "pygments_lexer": "ipython3",
   "version": "3.9.10"
  }
 },
 "nbformat": 4,
 "nbformat_minor": 2
}
